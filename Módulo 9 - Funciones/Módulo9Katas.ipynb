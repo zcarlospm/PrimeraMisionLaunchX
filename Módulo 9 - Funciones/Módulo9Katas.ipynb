{
  "cells": [
    {
      "cell_type": "markdown",
      "metadata": {},
      "source": [
        "### Ejercicio 1: Trabajar con argumentos en funciones\n",
        "\n",
        "Los argumentos requeridos en las funciones se utilizan cuando las funciones necesitan que esos argumentos funcionen correctamente. En este ejercicio, construirás un informe de combustible que requiere información de varias ubicaciones de combustible en todo el cohete.\n",
        "\n"
      ]
    },
    {
      "cell_type": "markdown",
      "metadata": {},
      "source": [
        "\n",
        "\n",
        "Comienza por crear una función que necesite tres lecturas de combustible y devuelva un informe:"
      ]
    },
    {
      "cell_type": "code",
      "execution_count": 25,
      "metadata": {},
      "outputs": [],
      "source": [
        "# Función para leer 3 tanques de combustible y muestre el promedio\n",
        "def reporte_tanque(lectura1, lectura2, lectura3):\n",
        "    promedio = round((lectura1 + lectura2 + lectura3) / 3, 2)\n",
        "    return f\"\"\"\n",
        "            Tanque1: {lectura1}\n",
        "            Tanque2: {lectura2}\n",
        "            Tanque3: {lectura3}\n",
        "            ---\n",
        "            Promedio: {promedio}\n",
        "        \"\"\"\n",
        "\n",
        "\n",
        "#print( tanque(5,8,10) )"
      ]
    },
    {
      "cell_type": "markdown",
      "metadata": {},
      "source": [
        "Ahora que hemos definido la función de informes, vamos a comprobarlo. Para esta misión, los tanques no están llenos:"
      ]
    },
    {
      "cell_type": "code",
      "execution_count": 26,
      "metadata": {},
      "outputs": [
        {
          "name": "stdout",
          "output_type": "stream",
          "text": [
            "\n",
            "            Tanque1: 5\n",
            "            Tanque2: 8\n",
            "            Tanque3: 10\n",
            "            ---\n",
            "            Promedio: 7.67\n",
            "        \n"
          ]
        }
      ],
      "source": [
        "\n",
        "# Llamamos a la función que genera el reporte print(funcion(tanque1, tanque2, tanque3))\n",
        "print( reporte_tanque(5,8,10) )"
      ]
    },
    {
      "cell_type": "markdown",
      "metadata": {},
      "source": [
        "En lugar de simplemente crear el informe, la función también está calculando el promedio. Mejora la legibilidad extrayendo el cálculo promedio de la función en una nueva función para que el promedio se pueda hacer de forma independiente:"
      ]
    },
    {
      "cell_type": "code",
      "execution_count": 31,
      "metadata": {},
      "outputs": [],
      "source": [
        "# Función promedio \n",
        "def avg(valores):\n",
        "    total = sum(valores)\n",
        "    size = len(valores)\n",
        "    return total / size"
      ]
    },
    {
      "cell_type": "markdown",
      "metadata": {},
      "source": [
        "Ahora actualiza la función de informes para llamando a la nueva función del promedio:\n"
      ]
    },
    {
      "cell_type": "code",
      "execution_count": 32,
      "metadata": {},
      "outputs": [
        {
          "name": "stdout",
          "output_type": "stream",
          "text": [
            "\n",
            "            Tanque1: 50\n",
            "            Tanque2: 150\n",
            "            Tanque3: 250\n",
            "            ---\n",
            "            Promedio: 150.0\n",
            "        \n"
          ]
        }
      ],
      "source": [
        "# Actualiza la función\n",
        "def reporte_tanque_fn_promedio(lectura1, lectura2, lectura3):\n",
        "    \n",
        "    promedio = round(avg([lectura1,lectura2,lectura3]),2)\n",
        "    return f\"\"\"\n",
        "            Tanque1: {lectura1}\n",
        "            Tanque2: {lectura2}\n",
        "            Tanque3: {lectura3}\n",
        "            ---\n",
        "            Promedio: {promedio}\n",
        "        \"\"\"\n",
        "\n",
        "print(reporte_tanque_fn_promedio(50,150,250))"
      ]
    },
    {
      "cell_type": "markdown",
      "metadata": {},
      "source": [
        "## Ejercicio 2: Trabajo con argumentos de palabra clave"
      ]
    },
    {
      "cell_type": "markdown",
      "metadata": {},
      "source": [
        "### Ejercicio : Trabajar con argumentos de palabras clave en funciones\n",
        "En este ejercicio, construirás un informe de cohete que requiere varias piezas de información, como el tiempo hasta el destino, el combustible a la izquierda y el nombre del destino. Comienza por crear una función que creará un informe preciso de la misión:"
      ]
    },
    {
      "cell_type": "code",
      "execution_count": 35,
      "metadata": {},
      "outputs": [
        {
          "name": "stdout",
          "output_type": "stream",
          "text": [
            "\n",
            "    Misión a Sol\n",
            "    Tiempo total de viaje: 170 minutes\n",
            "    Conmbustible total: 4608800 gallons\n",
            "    \n"
          ]
        }
      ],
      "source": [
        "# Función con un informe preciso de la misión. Considera hora de prelanzamiento, tiempo de vuelo, destino, tanque externo y tanque interno\n",
        "def reporte(tiempo_pre_launch, tiempo_vuelo, destino, external, interno):\n",
        "    return f\"\"\"\n",
        "    Misión a {destino}\n",
        "    Tiempo total de viaje: {tiempo_pre_launch + tiempo_vuelo} minutos\n",
        "    Conmbustible total: {external + interno} litros\n",
        "    \"\"\"\n",
        "\n",
        "print(reporte(20, 150, \"Sol\", 4500000, 108800))"
      ]
    },
    {
      "cell_type": "markdown",
      "metadata": {},
      "source": [
        "La función es problemática porque no se puede adaptar para minutos adicionales o tanques adicionales de combustible. Hazlo más flexible permitiendo cualquier número de pasos basados en el tiempo y cualquier número de tanques. En lugar de usar `*args` y `**kwargs`, aprovecha el hecho de que puedes usar cualquier nombre que desees. Asegurate que la función sea más legible mediante el uso de nombres de variables que están asociados con las entradas, como `*minutes` y `**fuel_reservoirs`:"
      ]
    },
    {
      "cell_type": "code",
      "execution_count": 37,
      "metadata": {},
      "outputs": [
        {
          "name": "stdout",
          "output_type": "stream",
          "text": [
            "\n",
            "    Misión a Luna\n",
            "    Total de viaje: 16611 minutos\n",
            "    Total de combustible: 846030\n",
            "    \n"
          ]
        }
      ],
      "source": [
        "# Escribe tu nueva función de reporte considerando lo anterior\n",
        "def reporte(destino, *minutes, **fuel_reservoirs):\n",
        "    return f\"\"\"\n",
        "    Misión a {destino}\n",
        "    Total de viaje: {sum(minutes)} minutos\n",
        "    Total de combustible: {sum(fuel_reservoirs.values())}\n",
        "    \"\"\"\n",
        "\n",
        "print(reporte(\"Luna\", 55, 15505, 1051, main=45000, external=801030))"
      ]
    },
    {
      "cell_type": "markdown",
      "metadata": {},
      "source": [
        "Debido a que el combustible que queda en los tanques es específico de cada tanque, actualiza la función para usar el nombre de cada tanque en el informe:"
      ]
    },
    {
      "cell_type": "code",
      "execution_count": 43,
      "metadata": {},
      "outputs": [
        {
          "name": "stdout",
          "output_type": "stream",
          "text": [
            "\n",
            "    Misión a Luna\n",
            "    Total de viaje: 16611 minutos\n",
            "    Total de combustible: 846030\n",
            "    ****** REPORTE DETALLADO ******\n",
            "| main = 45000 litros | external = 801030 litros |\n"
          ]
        }
      ],
      "source": [
        "# Escribe tu nueva función de reporte considerando lo anterior\n",
        "def reporte(destino, *minutes, **fuel_reservoirs):\n",
        "    out = f\"\"\"\n",
        "    Misión a {destino}\n",
        "    Total de viaje: {sum(minutes)} minutos\n",
        "    Total de combustible: {sum(fuel_reservoirs.values())}\n",
        "    \"\"\"\n",
        "    out += f\"****** REPORTE DETALLADO ******\\n\"\n",
        "\n",
        "    for tranque, litros in fuel_reservoirs.items():\n",
        "        out += f\"| {tranque} = {litros} litros \"    \n",
        "    \n",
        "    out += f\"|\"\n",
        "    return out\n",
        "\n",
        "print(reporte(\"Luna\", 55, 15505, 1051, main=45000, external=801030))\n"
      ]
    }
  ],
  "metadata": {
    "interpreter": {
      "hash": "205095b8b86ea82a021a8fc2ffba2b3bc9f8d0be25999901963b225939f75778"
    },
    "kernelspec": {
      "display_name": "Python 3.8.10 64-bit ('tmp': conda)",
      "name": "python3"
    },
    "language_info": {
      "codemirror_mode": {
        "name": "ipython",
        "version": 3
      },
      "file_extension": ".py",
      "mimetype": "text/x-python",
      "name": "python",
      "nbconvert_exporter": "python",
      "pygments_lexer": "ipython3",
      "version": "3.10.2"
    },
    "nteract": {
      "version": "nteract-front-end@1.0.0"
    },
    "orig_nbformat": 4
  },
  "nbformat": 4,
  "nbformat_minor": 2
}
