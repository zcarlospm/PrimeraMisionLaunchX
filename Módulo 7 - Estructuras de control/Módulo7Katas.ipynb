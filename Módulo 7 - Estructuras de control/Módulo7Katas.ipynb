{
  "cells": [
    {
      "cell_type": "code",
      "execution_count": 13,
      "metadata": {},
      "outputs": [],
      "source": [
        "# Declara dos variables\n",
        "new_planet = \"\"\n",
        "planets = []"
      ]
    },
    {
      "cell_type": "markdown",
      "metadata": {},
      "source": [
        "### Crea un ciclo `while`\n",
        "\n",
        "Comenzando con las variables que acabas de crear, crearás un ciclo `while`. El ciclo `while` se ejecutará *mientras* el `new_planet` **no** sea igual a la palabra 'done'.\n",
        "\n",
        "Dentro del ciclo, comprobarás si la variable `new_planet` contiene un valor, que debería ser el nombre de un planeta. Esta es una forma rápida de ver si el usuario ha introducido un valor. Si lo han hecho, tu código agregará (`append`) ese valor a la variable `planets`.\n",
        "\n",
        "Finalmente, usarás `input` para solicitar al usuario que ingrese un nuevo nombre de planeta o que escriba *done* si ha terminado de ingresar nombres de planeta. Almacenará el valor de `input` en la variable `new_planet`."
      ]
    },
    {
      "cell_type": "code",
      "execution_count": 24,
      "metadata": {},
      "outputs": [
        {
          "name": "stdout",
          "output_type": "stream",
          "text": [
            "['tierra', 'jupiter', 'saturno']\n"
          ]
        }
      ],
      "source": [
        "# Escribe el ciclo while solicitado\n",
        "new_planet = \"\"\n",
        "planets = []\n",
        "while new_planet.lower() != \"done\":        \n",
        "    if( new_planet ):\n",
        "        #if(len(planets) == 0 or planets.index(new_planet) == -1):\n",
        "            planets.append(new_planet)\n",
        "\n",
        "    new_planet = input(\"Ingresa el nombre de un planeta o escribe la palabra «done» si has  terminado de carpturar los planetas\")\n",
        "print(planets)"
      ]
    },
    {
      "cell_type": "markdown",
      "metadata": {},
      "source": [
        "## Ejercicio 2: Creación de un ciclo \"for\""
      ]
    },
    {
      "cell_type": "markdown",
      "metadata": {},
      "source": [
        "### Ejercicio: - Ciclo para una lista\n",
        "\n",
        "En el ejercicio anterior, creaste código para solicitar a los usuarios que introduzcan una lista de nombres de planetas. En este ejercicio, completarás la aplicación escribiendo código que muestre los nombres de esos planetas.\n",
        "\n",
        "### Mostrar la lista de los planetas\n",
        "\n",
        "La variable `planets` almacena los nombres de planeta que ha introducido un usuario. Ahora usarás un ciclo para mostrar esas entradas.\n",
        "\n",
        "Crea un ciclo `for` para iterar sobre la lista `planets`. Puedes usar como nombre de la variable `planet` para cada planeta. Dentro del ciclo `for`, recuerda utilizar `print` para mostrar cada `planet`."
      ]
    },
    {
      "cell_type": "code",
      "execution_count": 25,
      "metadata": {},
      "outputs": [
        {
          "name": "stdout",
          "output_type": "stream",
          "text": [
            "Planet:   Tierra\n",
            "Planet:   Jupiter\n",
            "Planet:   Saturno\n"
          ]
        }
      ],
      "source": [
        "# Escribe tu ciclo for para iterar en una lista de planetas\n",
        "for planet in planets:\n",
        "    print(\"Planet:  \",planet.title())"
      ]
    }
  ],
  "metadata": {
    "interpreter": {
      "hash": "916dbcbb3f70747c44a77c7bcd40155683ae19c65e1c03b4aa3499c5328201f1"
    },
    "kernelspec": {
      "display_name": "Python 3.8.10 64-bit",
      "language": "python",
      "name": "python3"
    },
    "language_info": {
      "codemirror_mode": {
        "name": "ipython",
        "version": 3
      },
      "file_extension": ".py",
      "mimetype": "text/x-python",
      "name": "python",
      "nbconvert_exporter": "python",
      "pygments_lexer": "ipython3",
      "version": "3.10.2"
    },
    "nteract": {
      "version": "nteract-front-end@1.0.0"
    },
    "orig_nbformat": 4
  },
  "nbformat": 4,
  "nbformat_minor": 2
}
