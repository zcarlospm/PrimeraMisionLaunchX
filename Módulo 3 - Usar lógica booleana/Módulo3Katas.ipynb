{
  "cells": [
    {
      "cell_type": "code",
      "execution_count": 5,
      "metadata": {},
      "outputs": [
        {
          "name": "stdout",
          "output_type": "stream",
          "text": [
            "Alerta de colisión con la Tierra\n"
          ]
        }
      ],
      "source": [
        "# Añadir el código necesario para crear una variable que guarde la velocidad del asteroide.\n",
        "# Escribe una expresión de prueba para calcular si necesita una advertencia.\n",
        "# Agregue las instrucciones que se ejecutarán si la expresión de prueba es true o false.\n",
        "velocidad_asteroide = input()\n",
        "velocidad_asteroide = (0, int(velocidad_asteroide))[velocidad_asteroide.isnumeric()]\n",
        "\n",
        "if(velocidad_asteroide > 25):\n",
        "    print(\"Alerta de colisión con la Tierra\")\n",
        "else:\n",
        "    print(\"No hay peligro\")\n",
        "\n"
      ]
    },
    {
      "cell_type": "markdown",
      "metadata": {},
      "source": [
        "Si un asteroide entra en la atmósfera de la Tierra a una velocidad mayor o igual a 20 km/s, a veces produce un rayo de luz que se puede ver desde la Tierra. Escribe la lógica condicional que usa declaraciones `if`, `else`, y `elif` para alertar a las personas de todo el mundo que deben buscar un asteroide en el cielo. ¡Hay uno que se dirige a la tierra ahora a una velocidad de 19 km/s!"
      ]
    },
    {
      "cell_type": "code",
      "execution_count": 13,
      "metadata": {},
      "outputs": [
        {
          "name": "stdout",
          "output_type": "stream",
          "text": [
            "Se ve un rayo de luz... es un asteroide y ¡¡¡esta viajando a 21 km/s!!!\n"
          ]
        }
      ],
      "source": [
        "# Agrega el código para crear una variable para un asteroide que viaja a 19 km/s\n",
        "# Escribe varias expresiones de prueba para determinar si puedes ver el rayo de luz desde la tierra\n",
        "# Agrega las instrucciones que se ejecutarán si las expresiones de prueba son True o False\n",
        "velocidad_asteroide = input()\n",
        "velocidad_asteroide = (0, int(velocidad_asteroide))[velocidad_asteroide.isnumeric()]\n",
        "\n",
        "if(velocidad_asteroide > 20):\n",
        "    print(\"Se ve un rayo de luz... es un asteroide y ¡¡¡esta viajando a\", str(velocidad_asteroide) ,\"km/s!!!\")\n",
        "elif(velocidad_asteroide == 20):\n",
        "    print(\"Se ve una luz en el cielo ¿Será un asteroide?\")\n",
        "else:\n",
        "    print(\"En la Tierra la vida es muy sabrosa\")"
      ]
    },
    {
      "cell_type": "code",
      "execution_count": 13,
      "metadata": {},
      "outputs": [
        {
          "name": "stdout",
          "output_type": "stream",
          "text": [
            "Se ve una luz en el cielo ¿Será un asteroide?\n",
            "Velocidad del asteroide: 20 km/s\n",
            "Diametro del asteroide: 25 metros\n"
          ]
        }
      ],
      "source": [
        "# Agrega el código para crear nuevas variables para la velocidad y el tamaño del asteroide\n",
        "# Para probar el código, prueba con varias velocidades y tamaños\n",
        "# Escribe varias expresiones de prueba o combinaciones de expresiones de prueba para determinar qué mensaje se debe enviar a Tierra.\n",
        "from random import randrange\n",
        "\n",
        "velocidad_asteroide = input() # 25 km/s\n",
        "velocidad_asteroide = (0, int(velocidad_asteroide))[velocidad_asteroide.isnumeric()]\n",
        "\n",
        "diametro_asteroide = input() # 25 metros\n",
        "diametro_asteroide = (0, int(diametro_asteroide))[diametro_asteroide.isnumeric()]\n",
        "\n",
        "if (diametro_asteroide < 25) :\n",
        "    print('El asteroide se hizo polvo al entrar a la atmosfera.')\n",
        "elif (diametro_asteroide > 25) or velocidad_asteroide > 25 :\n",
        "    \n",
        "    if (diametro_asteroide < 1000):            \n",
        "        print('¡Alerta! Un asteroide con un diametro de ' + str(diametro_asteroide) + ' metros causara mucho daño en su impacto')\n",
        "    elif(diametro_asteroide > 1000):\n",
        "        print('¡Alerta! Un asteroide con un diametro de ' + str(diametro_asteroide) + ' metros provacara el fin del mundo')\n",
        "    \n",
        "    if velocidad_asteroide > 25:\n",
        "            print('¡El asteroide tiene una alta velocidad de',velocidad_asteroide,'km/s!')\n",
        "            \n",
        "elif velocidad_asteroide >= 20:    \n",
        "    hay_luz = randrange(2)\n",
        "    luz = \"Se ve una luz en el cielo \" if hay_luz == 1 else \"\"\n",
        "    print( luz + \"¿Será un asteroide?\")\n",
        "else:\n",
        "    print('¿Asteroide? ¿Dónde?')\n",
        "\n",
        "print(\"Velocidad del asteroide:\",str(velocidad_asteroide),\"km/s\")\n",
        "print(\"Diametro del asteroide:\",str(diametro_asteroide),\"metros\")"
      ]
    }
  ],
  "metadata": {
    "interpreter": {
      "hash": "916dbcbb3f70747c44a77c7bcd40155683ae19c65e1c03b4aa3499c5328201f1"
    },
    "kernel_info": {
      "name": "conda-env-py37_default-py"
    },
    "kernelspec": {
      "display_name": "py37_default",
      "language": "python",
      "name": "python3"
    },
    "language_info": {
      "codemirror_mode": {
        "name": "ipython",
        "version": 3
      },
      "file_extension": ".py",
      "mimetype": "text/x-python",
      "name": "python",
      "nbconvert_exporter": "python",
      "pygments_lexer": "ipython3",
      "version": "3.10.2"
    },
    "nteract": {
      "version": "nteract-front-end@1.0.0"
    },
    "orig_nbformat": 4
  },
  "nbformat": 4,
  "nbformat_minor": 2
}
